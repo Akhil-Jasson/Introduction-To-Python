{
  "nbformat": 4,
  "nbformat_minor": 0,
  "metadata": {
    "colab": {
      "provenance": []
    },
    "kernelspec": {
      "name": "python3",
      "display_name": "Python 3"
    },
    "language_info": {
      "name": "python"
    }
  },
  "cells": [
    {
      "cell_type": "code",
      "execution_count": null,
      "metadata": {
        "id": "oBtiD5HPTy8H"
      },
      "outputs": [],
      "source": [
        "import pandas as pd\n",
        "data = pd.read_csv(\"salaries_by_college_major.csv\")\n",
        "data.head() # Used to return the top 5 rows of data"
      ]
    },
    {
      "cell_type": "code",
      "source": [
        "data.shape # Used to find the dimensions of the data"
      ],
      "metadata": {
        "id": "XNLwBu24MZhi"
      },
      "execution_count": null,
      "outputs": []
    },
    {
      "cell_type": "code",
      "source": [
        "data.columns # Used to return the table headings"
      ],
      "metadata": {
        "id": "pJGXD--gM06n"
      },
      "execution_count": null,
      "outputs": []
    },
    {
      "cell_type": "code",
      "source": [
        "data.isna() # Returns columns with blank value or incorrect data type"
      ],
      "metadata": {
        "id": "P-luQAQ8NAvd"
      },
      "execution_count": null,
      "outputs": []
    },
    {
      "cell_type": "code",
      "source": [
        "data.tail() # Retuns the last 5 rows"
      ],
      "metadata": {
        "id": "zD6dVAIYOP5S"
      },
      "execution_count": null,
      "outputs": []
    },
    {
      "cell_type": "code",
      "source": [
        "clean_data = data.dropna() # Used to remove all the incorrect rows\n",
        "clean_data.tail()"
      ],
      "metadata": {
        "id": "ybgsn6x5OPpk"
      },
      "execution_count": null,
      "outputs": []
    },
    {
      "cell_type": "code",
      "source": [
        "clean_data[\"Starting Median Salary\"]  # Returns all the values for the column \"Starting Median Salary\""
      ],
      "metadata": {
        "id": "MM1uxMi_O4JG"
      },
      "execution_count": null,
      "outputs": []
    },
    {
      "cell_type": "code",
      "source": [
        "clean_data[\"Starting Median Salary\"].max() # returns max value in the specified column"
      ],
      "metadata": {
        "id": "-Xywl3R-PE2s"
      },
      "execution_count": null,
      "outputs": []
    },
    {
      "cell_type": "code",
      "source": [
        "clean_data[\"Starting Median Salary\"].idxmax() #Returns index at which value is maximum"
      ],
      "metadata": {
        "id": "i4a1DtXGP-Mg"
      },
      "execution_count": null,
      "outputs": []
    },
    {
      "cell_type": "code",
      "source": [
        "clean_data[\"Undergraduate Major\"].loc[43] # Returns the value at the specified location\n",
        "clean_data[\"Undergraduate Major\"][43] # Same Output"
      ],
      "metadata": {
        "id": "ggr_NgivQP1J"
      },
      "execution_count": null,
      "outputs": []
    },
    {
      "cell_type": "code",
      "source": [
        "clean_data.loc[43] # Full Row"
      ],
      "metadata": {
        "id": "fjLTkV_tQpvP"
      },
      "execution_count": null,
      "outputs": []
    },
    {
      "cell_type": "markdown",
      "source": [
        "What college major has the highest mid-career salary? How much do graduates with this major earn?"
      ],
      "metadata": {
        "id": "MP8y5808RhY8"
      }
    },
    {
      "cell_type": "code",
      "source": [
        "clean_data[\"Mid-Career Median Salary\"].idxmax() #8\n",
        "clean_data[\"Mid-Career Median Salary\"].loc[8] # Earn 107000"
      ],
      "metadata": {
        "id": "6FQZA6hARCGN"
      },
      "execution_count": null,
      "outputs": []
    },
    {
      "cell_type": "markdown",
      "source": [
        "Which college major has the lowest starting salary and how much do graduates earn after university?"
      ],
      "metadata": {
        "id": "lm4FIt_vRpc-"
      }
    },
    {
      "cell_type": "code",
      "source": [
        "clean_data[\"Starting Median Salary\"].idxmin() #49\n",
        "clean_data[\"Starting Median Salary\"].loc[49] # Earn 34000"
      ],
      "metadata": {
        "id": "fvfP3nmER2LR"
      },
      "execution_count": null,
      "outputs": []
    },
    {
      "cell_type": "markdown",
      "source": [
        "Which college major has the lowest mid-career salary and how much can people expect to earn with this degree?"
      ],
      "metadata": {
        "id": "kVnOsjh2SIXg"
      }
    },
    {
      "cell_type": "code",
      "source": [
        "print(f\"Index at which Mid-Career Median Salary is lowest: {clean_data['Mid-Career Median Salary'].idxmin()}\")\n",
        "print(f\"The Lowest Mid-Career Median Salary is ${clean_data['Mid-Career Median Salary'].loc[18]}\\n\")\n",
        "print(f\"The information about the lowest paying Mid-Career Job\\n{clean_data.loc[18]}\")\n",
        "# clean_data.loc[18] == clean_data.loc[clean_data[\"Mid-Career Median Salary\"].idxmin()]"
      ],
      "metadata": {
        "id": "L75kihlmSJam"
      },
      "execution_count": null,
      "outputs": []
    },
    {
      "cell_type": "code",
      "source": [
        "spread = clean_data[\"Mid-Career 90th Percentile Salary\"] - clean_data[\"Mid-Career 10th Percentile Salary\"]\n",
        "# clean_data[\"Mid-Career 90th Percentile Salary\"].subtract(clean_data[\"Mid-Career 10th Percentile Salary\"]) can also be used\n",
        "clean_data.insert(1, \"Spread\", spread)\n",
        "print(clean_data)"
      ],
      "metadata": {
        "id": "nAz58ZSLrnIt"
      },
      "execution_count": null,
      "outputs": []
    },
    {
      "cell_type": "code",
      "source": [
        "low_risk = clean_data.sort_values(\"Spread\") # Sorts in ascending order by default\n",
        "print(low_risk[[\"Undergraduate Major\", \"Spread\"]])"
      ],
      "metadata": {
        "id": "C1cKUqrot1uR"
      },
      "execution_count": null,
      "outputs": []
    },
    {
      "cell_type": "markdown",
      "source": [
        "Using the .sort_values() method, can you find the degrees with the highest potential? Find the top 20 degrees with the highest values in the 90th percentile."
      ],
      "metadata": {
        "id": "EqZq-VHxwVqg"
      }
    },
    {
      "cell_type": "code",
      "source": [
        "clean_data.sort_values(\"Mid-Career 90th Percentile Salary\", ascending=False).head(n=20)"
      ],
      "metadata": {
        "id": "g7s_UR5RwXx5"
      },
      "execution_count": null,
      "outputs": []
    },
    {
      "cell_type": "markdown",
      "source": [
        "Also, find the degrees with the greatest spread in salaries. Which majors have the largest difference between high and low earners after graduation."
      ],
      "metadata": {
        "id": "tXmjvJczxHrP"
      }
    },
    {
      "cell_type": "code",
      "source": [
        "print(clean_data.sort_values(\"Spread\", ascending=False)[[\"Undergraduate Major\", \"Spread\"]])"
      ],
      "metadata": {
        "id": "YBI2Zt0AxQD6"
      },
      "execution_count": null,
      "outputs": []
    },
    {
      "cell_type": "code",
      "source": [
        "clean_data.groupby(\"Group\").count() # Used to count the duplicate values of chosen column"
      ],
      "metadata": {
        "id": "Rfe3kmCq0T5s"
      },
      "execution_count": null,
      "outputs": []
    },
    {
      "cell_type": "code",
      "source": [
        "pd.options.display.float_format = \"{:,.2f}\".format # used to bring international system commas in numbers"
      ],
      "metadata": {
        "id": "_lsWgeGF4X2H"
      },
      "execution_count": 24,
      "outputs": []
    },
    {
      "cell_type": "code",
      "source": [
        "clean_data.groupby(\"Group\").mean()"
      ],
      "metadata": {
        "id": "Of8tru3Rz63U"
      },
      "execution_count": null,
      "outputs": []
    }
  ]
}
